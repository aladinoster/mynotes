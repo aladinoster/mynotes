{
 "cells": [
  {
   "cell_type": "markdown",
   "id": "ce4c64f9-b59b-4b43-9851-cc0da9d63e0d",
   "metadata": {
    "user_expressions": []
   },
   "source": [
    "---\n",
    "title: Latent Variable Models\n",
    "author: Andres Ladino\n",
    "---"
   ]
  },
  {
   "cell_type": "markdown",
   "id": "b41e35f7-c9d8-41ef-ba15-868d25ab24b8",
   "metadata": {
    "user_expressions": []
   },
   "source": [
    "## Main objective\n",
    "\n",
    "The main objective on latent models is to minimize\n",
    "\n",
    "```{math}\n",
    ":label: basic\n",
    "\\max_\\theta \\sum_i \\log \\sum_z p(z) p_\\theta(x^{(i)}|z)\n",
    "```\n",
    "\n",
    "in [](#basic) the basic idea is to represent in a space {math}`z` and condition on this space to generate {math}`x`.\n",
    "\n",
    "```{tip} Why this?\n",
    ":class: dropdown\n",
    "The interesting part of all this is that {math}`z` may have some structure that can represent better {math}`x` in lower dimensions\n",
    "\n",
    "- This could be interesting because operating on {math}`z` might be easier.\n",
    "\n",
    "```\n",
    "\n",
    "### Two scenarios\n",
    " \n",
    "1. {math}`z` is really discrete so in this case you just evaluate \n",
    "\n",
    "2. {math}`z` is not discrete then the quanity {math}`\\sum_z p(z) p_\\theta(x^{(i)}|z) \\approx \\frac{1}{K} \\sum_k p_\\theta(x^{(i)}|z^{(i)}_k)\\quad z^{(i)}\\sim p(z) "
   ]
  },
  {
   "cell_type": "markdown",
   "id": "0b106bc0-fb0a-4477-82e8-10909e1d0f4b",
   "metadata": {
    "user_expressions": []
   },
   "source": [
    "#### Scenario 1\n",
    "In an example with three values:\n",
    "\n",
    "```{note}\n",
    "Let consider the case of {math}`z` taking a discrete uniform distribution {math}`\\sim U(0,3)`\n",
    "```\n",
    "\n",
    "$$\n",
    "\\label{maxwell}\n",
    "\\begin{aligned}\n",
    "\\max_\\theta& \\sum_i \\log \\sum_z p(z) p_\\theta(x^{(i)}|z) \\\\\n",
    "\\max_{\\mu,\\sigma}\\quad\\log\\Big( & \\frac{1}{3} \\cdot \\frac{1}{2\\pi |\\Sigma_A|^{1/2}}\\exp{\\left((x-\\mu_A)^T\\Sigma^{-1}_A(x-\\mu_A)\\right)}\\\\\n",
    "                 +& \\frac{1}{3} \\cdot \\frac{1}{2\\pi |\\Sigma_B|^{1/2}}\\exp{\\left((x-\\mu_B)^T\\Sigma^{-1}_B(x-\\mu_B)\\right)}\\\\\n",
    "                 +& \\frac{1}{3} \\cdot \\frac{1}{2\\pi |\\Sigma_C|^{1/2}}\\exp{\\left((x-\\mu_C)^T\\Sigma^{-1}_C(x-\\mu_C)\\right)}\\Big)\\\\\n",
    " \n",
    "\\end{aligned}\n",
    "$$"
   ]
  },
  {
   "cell_type": "code",
   "execution_count": 13,
   "id": "86ca78f7-d3e2-491d-878c-167f8435d2dd",
   "metadata": {
    "tags": []
   },
   "outputs": [],
   "source": [
    "import torch"
   ]
  },
  {
   "cell_type": "markdown",
   "id": "92053d31-f621-41d3-abee-dc593034bf98",
   "metadata": {
    "user_expressions": []
   },
   "source": [
    "```{warning}\n",
    "Code and notes below this part is draft content\n",
    "```"
   ]
  },
  {
   "cell_type": "code",
   "execution_count": 1,
   "id": "06b0243b-71fe-434e-971e-38f9e46d405a",
   "metadata": {
    "tags": []
   },
   "outputs": [],
   "source": [
    "import torch"
   ]
  },
  {
   "cell_type": "code",
   "execution_count": 2,
   "id": "931d931d-61fd-4e0f-89f0-622e25b896b2",
   "metadata": {
    "tags": []
   },
   "outputs": [],
   "source": [
    "mu = torch.zeros(3, dtype=torch.float32)"
   ]
  },
  {
   "cell_type": "code",
   "execution_count": 3,
   "id": "b528943a-9a18-4ee3-9caf-f084d0dd6394",
   "metadata": {
    "tags": []
   },
   "outputs": [
    {
     "data": {
      "text/plain": [
       "tensor([0., 0., 0.])"
      ]
     },
     "execution_count": 3,
     "metadata": {},
     "output_type": "execute_result"
    }
   ],
   "source": [
    "mu"
   ]
  },
  {
   "cell_type": "code",
   "execution_count": 5,
   "id": "2a869d03-c879-4a06-b563-ec2d3c475d16",
   "metadata": {
    "tags": []
   },
   "outputs": [
    {
     "data": {
      "text/plain": [
       "tensor([0.])"
      ]
     },
     "execution_count": 5,
     "metadata": {},
     "output_type": "execute_result"
    }
   ],
   "source": [
    "mu[0].unsqueeze(0)"
   ]
  },
  {
   "cell_type": "code",
   "execution_count": 6,
   "id": "6cfea871-be58-497f-bd5a-10261ec8a4eb",
   "metadata": {
    "tags": []
   },
   "outputs": [
    {
     "data": {
      "text/plain": [
       "torch.Size([])"
      ]
     },
     "execution_count": 6,
     "metadata": {},
     "output_type": "execute_result"
    }
   ],
   "source": [
    "mu[0].shape"
   ]
  },
  {
   "cell_type": "code",
   "execution_count": 7,
   "id": "ea720e8d-c43c-458f-9ee7-e7f1704a893f",
   "metadata": {
    "tags": []
   },
   "outputs": [
    {
     "data": {
      "text/plain": [
       "torch.Size([1])"
      ]
     },
     "execution_count": 7,
     "metadata": {},
     "output_type": "execute_result"
    }
   ],
   "source": [
    "mu[0].unsqueeze(0).shape"
   ]
  },
  {
   "cell_type": "code",
   "execution_count": 9,
   "id": "2148c706-8ec7-46d4-a076-d77e5f5733a9",
   "metadata": {
    "tags": []
   },
   "outputs": [
    {
     "data": {
      "text/plain": [
       "torch.Size([1, 3])"
      ]
     },
     "execution_count": 9,
     "metadata": {},
     "output_type": "execute_result"
    }
   ],
   "source": [
    "mu.unsqueeze(0).shape"
   ]
  },
  {
   "cell_type": "code",
   "execution_count": 10,
   "id": "fee8af4c-81e2-40e0-9701-29575a1a95d2",
   "metadata": {
    "tags": []
   },
   "outputs": [
    {
     "data": {
      "text/plain": [
       "torch.Size([3])"
      ]
     },
     "execution_count": 10,
     "metadata": {},
     "output_type": "execute_result"
    }
   ],
   "source": [
    "mu.shape"
   ]
  },
  {
   "cell_type": "code",
   "execution_count": null,
   "id": "ac885b27-c76f-4834-9674-94ebce9094d4",
   "metadata": {},
   "outputs": [],
   "source": []
  }
 ],
 "metadata": {
  "kernelspec": {
   "display_name": "Python 3 (ipykernel)",
   "language": "python",
   "name": "python3"
  },
  "language_info": {
   "codemirror_mode": {
    "name": "ipython",
    "version": 3
   },
   "file_extension": ".py",
   "mimetype": "text/x-python",
   "name": "python",
   "nbconvert_exporter": "python",
   "pygments_lexer": "ipython3",
   "version": "3.10.9"
  }
 },
 "nbformat": 4,
 "nbformat_minor": 5
}
